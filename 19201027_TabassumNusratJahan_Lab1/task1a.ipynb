{
 "cells": [
  {
   "cell_type": "code",
   "execution_count": 22,
   "id": "d210caa1",
   "metadata": {},
   "outputs": [],
   "source": [
    "file = open(\"input1a.txt\",\"r\")\n",
    "line = file.readlines()\n",
    "lst = []\n",
    "for i in line:\n",
    "    i = i.strip()\n",
    "    lst.append(int(i))\n",
    "n = (lst[0])\n",
    "output = open(\"output1a.txt\",\"w\")\n",
    "for i in range(1,n+1):\n",
    "    if lst[i]%2==0:\n",
    "        output.write(str(lst[i])+\"is a even number\\n\")\n",
    "    elif lst[i]%2==1:\n",
    "        output.write(str(lst[i])+\"is an odd number\\n\")\n",
    "file.close()"
   ]
  },
  {
   "cell_type": "code",
   "execution_count": null,
   "id": "5bc8295a",
   "metadata": {},
   "outputs": [],
   "source": []
  }
 ],
 "metadata": {
  "kernelspec": {
   "display_name": "Python 3",
   "language": "python",
   "name": "python3"
  },
  "language_info": {
   "codemirror_mode": {
    "name": "ipython",
    "version": 3
   },
   "file_extension": ".py",
   "mimetype": "text/x-python",
   "name": "python",
   "nbconvert_exporter": "python",
   "pygments_lexer": "ipython3",
   "version": "3.8.8"
  }
 },
 "nbformat": 4,
 "nbformat_minor": 5
}
