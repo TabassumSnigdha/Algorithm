{
 "cells": [
  {
   "cell_type": "code",
   "execution_count": 2,
   "id": "9cd2da95",
   "metadata": {},
   "outputs": [],
   "source": [
    "input_file=open('input5.txt')\n",
    "output_file=open('output5.txt','w')\n",
    "n=input_file.readline() \n",
    "l=[]\n",
    "name=[]\n",
    "# normal list creat\n",
    "for i in range(int(n)):\n",
    "    s=input_file.readline().strip()\n",
    "    l.append(s)\n",
    "    \n",
    "    s=s.split(\" \")\n",
    "    name.append(s[0])\n",
    "#print(l)\n",
    "    \n",
    "#Sort by name\n",
    "\n",
    "for i in range(len(name)-1):\n",
    "    mn=name[i]\n",
    "    idx=i\n",
    "    for j in range(i+1,len(name)):\n",
    "        \n",
    "        if name[j]<mn:\n",
    "            mn=name[j]\n",
    "            idx=j\n",
    "            \n",
    "        #for same name     \n",
    "        if name[j]==mn:\n",
    "            lst1=l[i].split(\" \")\n",
    "            lst2=l[j].split(\" \")\n",
    "            if (lst1[-1])>(lst2[-1]):\n",
    "                mn=name[j]\n",
    "                idx=j\n",
    "                \n",
    "    temp=name[i]\n",
    "    name[i]=name[idx]\n",
    "    name[idx]=temp\n",
    "        \n",
    "    temp=l[i]\n",
    "    l[i]=l[idx]\n",
    "    l[idx]=temp\n",
    "\n",
    "        \n",
    "# write\n",
    "\n",
    "for i in l:\n",
    "    output_file.write(i+\"\\n\")\n",
    "\n",
    "input_file.close()\n",
    "output_file.close()"
   ]
  },
  {
   "cell_type": "code",
   "execution_count": null,
   "id": "d6fce365",
   "metadata": {},
   "outputs": [],
   "source": []
  }
 ],
 "metadata": {
  "kernelspec": {
   "display_name": "Python 3",
   "language": "python",
   "name": "python3"
  },
  "language_info": {
   "codemirror_mode": {
    "name": "ipython",
    "version": 3
   },
   "file_extension": ".py",
   "mimetype": "text/x-python",
   "name": "python",
   "nbconvert_exporter": "python",
   "pygments_lexer": "ipython3",
   "version": "3.8.8"
  }
 },
 "nbformat": 4,
 "nbformat_minor": 5
}
