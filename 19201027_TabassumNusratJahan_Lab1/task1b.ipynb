{
 "cells": [
  {
   "cell_type": "code",
   "execution_count": 3,
   "id": "b74cfc4a",
   "metadata": {},
   "outputs": [],
   "source": [
    "input_file=open('input1b.txt')\n",
    "output_file=open('output1b.txt','w')\n",
    "n=int(input_file.readline()) # case no\n",
    "for i in range(n):\n",
    "    l=input_file.readline()\n",
    "    l=l.strip().split(\" \")\n",
    "    r=0\n",
    "    if l[2]==\"+\":\n",
    "        r=int(l[1])+int(l[3])\n",
    "        output_file.write(\"The result of \"+l[1]+\" \"+l[2]+\" \"+l[3]+\" is \"+str(r)+\"\\n\")\n",
    "    elif l[2]==\"-\":\n",
    "        r=int(l[1])-int(l[3])\n",
    "        output_file.write(\"The result of \"+l[1]+\" \"+l[2]+\" \"+l[3]+\" is \"+str(r)+\"\\n\")\n",
    "    elif l[2]==\"*\":\n",
    "        r=int(l[1])*int(l[3])\n",
    "        output_file.write(\"The result of \"+l[1]+\" \"+l[2]+\" \"+l[3]+\" is \"+str(r)+\"\\n\")\n",
    "    elif l[2]==\"/\":\n",
    "        r=int(l[1])/int(l[3])\n",
    "        output_file.write(\"The result of \"+l[1]+\" \"+l[2]+\" \"+l[3]+\" is \"+str(r)+\"\\n\")\n",
    "\n",
    "\n",
    "input_file.close()\n",
    "output_file.close()"
   ]
  },
  {
   "cell_type": "code",
   "execution_count": null,
   "id": "78b8b282",
   "metadata": {},
   "outputs": [],
   "source": []
  }
 ],
 "metadata": {
  "kernelspec": {
   "display_name": "Python 3",
   "language": "python",
   "name": "python3"
  },
  "language_info": {
   "codemirror_mode": {
    "name": "ipython",
    "version": 3
   },
   "file_extension": ".py",
   "mimetype": "text/x-python",
   "name": "python",
   "nbconvert_exporter": "python",
   "pygments_lexer": "ipython3",
   "version": "3.8.8"
  }
 },
 "nbformat": 4,
 "nbformat_minor": 5
}
