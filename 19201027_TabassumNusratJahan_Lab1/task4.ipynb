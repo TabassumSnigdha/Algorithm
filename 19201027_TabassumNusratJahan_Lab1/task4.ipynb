{
 "cells": [
  {
   "cell_type": "code",
   "execution_count": 4,
   "id": "65514782",
   "metadata": {},
   "outputs": [],
   "source": [
    "input_file=open('input4.txt')\n",
    "output_file=open('output4.txt','w')\n",
    "n=input_file.readline() # student no \n",
    "id=input_file.readline().strip().split(\" \")\n",
    "marks=input_file.readline().strip().split(\" \")\n",
    "\n",
    "for i in range(len(marks)-1):\n",
    "    mx=int(marks[i])\n",
    "    idx=i\n",
    "    for j in range(i+1,len(marks)):\n",
    "        if int(marks[j])>mx:\n",
    "            mx=int(marks[j])\n",
    "            idx=j\n",
    "        #for id maintain if marks same    \n",
    "        if int(marks[j])==mx:\n",
    "            if int(id[j])<int(id[i]):\n",
    "                mx=int(marks[j])\n",
    "                idx=j\n",
    "    \n",
    "    temp=marks[i]\n",
    "    marks[i]=str(mx)\n",
    "    marks[idx]=temp\n",
    "    \n",
    "    temp=id[i]\n",
    "    id[i]=id[idx]\n",
    "    id[idx]=temp\n",
    "    \n",
    "#write\n",
    "for i in range(len(id)):\n",
    "    output_file.write(\"ID: \"+id[i]+\" Mark: \"+marks[i]+\"\\n\")\n",
    "    \n",
    "\n",
    "input_file.close()\n",
    "output_file.close()"
   ]
  },
  {
   "cell_type": "code",
   "execution_count": null,
   "id": "7f28eaf8",
   "metadata": {},
   "outputs": [],
   "source": []
  }
 ],
 "metadata": {
  "kernelspec": {
   "display_name": "Python 3",
   "language": "python",
   "name": "python3"
  },
  "language_info": {
   "codemirror_mode": {
    "name": "ipython",
    "version": 3
   },
   "file_extension": ".py",
   "mimetype": "text/x-python",
   "name": "python",
   "nbconvert_exporter": "python",
   "pygments_lexer": "ipython3",
   "version": "3.8.8"
  }
 },
 "nbformat": 4,
 "nbformat_minor": 5
}
