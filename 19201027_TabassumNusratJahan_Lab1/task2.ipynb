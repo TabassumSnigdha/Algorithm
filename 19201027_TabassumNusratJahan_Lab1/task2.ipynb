{
 "cells": [
  {
   "cell_type": "code",
   "execution_count": 3,
   "id": "62a20aa1",
   "metadata": {},
   "outputs": [
    {
     "name": "stdout",
     "output_type": "stream",
     "text": [
      "Enter a number: 22\n",
      "The 22 th fibonacci number is 17711.\n"
     ]
    },
    {
     "ename": "SyntaxError",
     "evalue": "'return' outside function (<ipython-input-3-ab7f0d92c2ac>, line 24)",
     "output_type": "error",
     "traceback": [
      "\u001b[1;36m  File \u001b[1;32m\"<ipython-input-3-ab7f0d92c2ac>\"\u001b[1;36m, line \u001b[1;32m24\u001b[0m\n\u001b[1;33m    return fib[n]\u001b[0m\n\u001b[1;37m    ^\u001b[0m\n\u001b[1;31mSyntaxError\u001b[0m\u001b[1;31m:\u001b[0m 'return' outside function\n"
     ]
    }
   ],
   "source": [
    "def fibonacci_1(n):\n",
    "    if n < 0:\n",
    "        print(\"Invalid input!\")\n",
    "    elif n <= 1:\n",
    "        return n\n",
    "    else:\n",
    "        return fibonacci_1(n-1)+fibonacci_1(n-2)\n",
    "n = int(input(\"Enter a number: \"))\n",
    "nth_fib = fibonacci_1(n)\n",
    "print(\"The {} th fibonacci number is {}.\".format(n, nth_fib))\n",
    "\n",
    "\n",
    "\n",
    "def fibonacci_2(n):\n",
    "    if n<0:\n",
    "        return \"Invalid Input\"\n",
    "    if n<=1:\n",
    "        return n\n",
    "fib = [0] * (n+1)\n",
    "fib[0] = 0\n",
    "fib[1] = 1\n",
    "for i in range(2,n+1):\n",
    "    fib[i] = fib[i-1] + fib[i-2]\n",
    "return fib[n]\n",
    "n = int(input(\"Enter a number: \"))\n",
    "nth_fib = fibonacci_2(n)\n",
    "print(\"The {} th fibonacci number is {}.\".format(n, nth_fib))\n",
    "\n",
    "import time\n",
    "import math\n",
    "import matplotlib.pyplot as plt\n",
    "import NumPy as np\n",
    "#change the value of n for your own experimentation\n",
    "n = 30\n",
    "x = [i for i in range(n)]\n",
    "y = [0 for i in range(n)]\n",
    "z = [0 for i in range(n)]\n",
    "for i in range(n-1):\n",
    "    start = time.time()\n",
    "    fibonacci_1(x[i+1])\n",
    "    y[i+1]= time.time()-start\n",
    "    start = time.time()\n",
    "    fibonacci_2(x[i+1])\n",
    "    z[i+1]= time.time()-start\n",
    "x_interval = math.ceil(n/10)\n",
    "plt.plot(x, y, 'r')\n",
    "plt.plot(x, z, 'b')\n",
    "plt.xticks(np.arange(min(x), max(x)+1, x_interval))\n",
    "plt.xlabel('n-th position')\n",
    "plt.ylabel('time')\n",
    "plt.title('Comparing Time Complexity!')\n",
    "plt.show()"
   ]
  },
  {
   "cell_type": "code",
   "execution_count": null,
   "id": "7df45e96",
   "metadata": {},
   "outputs": [],
   "source": []
  }
 ],
 "metadata": {
  "kernelspec": {
   "display_name": "Python 3",
   "language": "python",
   "name": "python3"
  },
  "language_info": {
   "codemirror_mode": {
    "name": "ipython",
    "version": 3
   },
   "file_extension": ".py",
   "mimetype": "text/x-python",
   "name": "python",
   "nbconvert_exporter": "python",
   "pygments_lexer": "ipython3",
   "version": "3.8.8"
  }
 },
 "nbformat": 4,
 "nbformat_minor": 5
}
