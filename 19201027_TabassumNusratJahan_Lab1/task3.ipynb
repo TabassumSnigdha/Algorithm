{
 "cells": [
  {
   "cell_type": "code",
   "execution_count": 2,
   "id": "4ade12db",
   "metadata": {},
   "outputs": [],
   "source": [
    "def bubbleSort(arr):\n",
    "    for i in range(len(arr)-1):\n",
    "        swapped = False \n",
    "        for j in range(len(arr)-i-1):\n",
    "            if arr[j] > arr[j+1]:\n",
    "                arr[j], arr[j+1] = arr[j+1], arr[j]\n",
    "                swapped=True\n",
    "        if swapped is False:\n",
    "            return arr       \n",
    "    return arr\n",
    "        \n",
    "#if the array is sorted then the time complexity will be T(n)=O(n) because only the outer loop will be executed once and the inner loop n times\"\n",
    "#arr=[6,7,1,3]\n",
    "#bubbleSort(arr)\n",
    "#print(arr)\n",
    "input1=open(\"input3.txt\",'r')\n",
    "arr=input1.readlines()  #['3', '2', '1','4','5']\n",
    "#print(arr)\n",
    "output1=open(\"output3.txt\",\"w\")\n",
    "for i in range(0,len(arr),2):\n",
    "    number=arr[i].strip()\n",
    "    #print(arr[i])\n",
    "    #i+=1\n",
    "    #print(arr[i])\n",
    "    small_arr=arr[i+1].split(\" \")\n",
    "    small_arr=[y.strip() for y in small_arr]\n",
    "    small_arr=[int(y) for y in small_arr]\n",
    "    smal=bubbleSort(small_arr)\n",
    "    #print(smal)\n",
    "    for y in smal:\n",
    "        output1.write(str(y)+\" \")\n",
    "    output1.write(\"\\n\")\n",
    "    #i+=1\n",
    "input1.close()\n",
    "output1.close()\n"
   ]
  },
  {
   "cell_type": "code",
   "execution_count": null,
   "id": "ffcf6b6d",
   "metadata": {},
   "outputs": [],
   "source": []
  }
 ],
 "metadata": {
  "kernelspec": {
   "display_name": "Python 3",
   "language": "python",
   "name": "python3"
  },
  "language_info": {
   "codemirror_mode": {
    "name": "ipython",
    "version": 3
   },
   "file_extension": ".py",
   "mimetype": "text/x-python",
   "name": "python",
   "nbconvert_exporter": "python",
   "pygments_lexer": "ipython3",
   "version": "3.8.8"
  }
 },
 "nbformat": 4,
 "nbformat_minor": 5
}
